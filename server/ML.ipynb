{
 "cells": [
  {
   "cell_type": "code",
   "execution_count": null,
   "metadata": {},
   "outputs": [],
   "source": [
    "import pandas as pd\n",
    "from sklearn.model_selection import train_test_split\n",
    "from sklearn.metrics.pairwise import cosine_similarity\n",
    "from sklearn.decomposition import TruncatedSVD\n",
    "from sklearn.preprocessing import LabelEncoder\n",
    "\n",
    "# Load the CSV data into a DataFrame\n",
    "df = pd.read_csv('data.csv')  # Replace 'your_jobs_data.csv' with the actual file path\n",
    "\n",
    "# Encode categorical variables\n",
    "label_encoder = LabelEncoder()\n",
    "df['job_title_encoded'] = label_encoder.fit_transform(df['jobTitle'])\n",
    "df['user_encoded'] = label_encoder.fit_transform(df['user'])  # Assuming 'user' is a user identifier in your data\n",
    "\n",
    "# Split the data into training and testing sets\n",
    "train_data, test_data = train_test_split(df, test_size=0.2, random_state=42)\n",
    "\n",
    "# Create a user-item matrix\n",
    "user_item_matrix = train_data.pivot_table(index='user_encoded', columns='job_title_encoded', values='application', fill_value=0)\n",
    "\n",
    "# Perform matrix factorization using Truncated SVD\n",
    "n_components = 10  # You can adjust the number of components based on your data\n",
    "svd = TruncatedSVD(n_components=n_components)\n",
    "user_factors = svd.fit_transform(user_item_matrix)\n",
    "job_factors = svd.components_.T\n",
    "\n",
    "# Calculate cosine similarity between user and job factors\n",
    "similarity_matrix = cosine_similarity(user_factors, job_factors)\n",
    "\n",
    "# Function to get job recommendations for a given user\n",
    "def get_job_recommendations(user_id, top_n=5):\n",
    "    user_index = label_encoder.transform([user_id])[0]\n",
    "    user_similarity = similarity_matrix[user_index]\n",
    "    ranked_jobs = sorted(list(enumerate(user_similarity)), key=lambda x: x[1], reverse=True)\n",
    "    recommended_jobs = [label_encoder.inverse_transform([job_index])[0] for job_index, _ in ranked_jobs[:top_n]]\n",
    "    return recommended_jobs\n",
    "\n",
    "# Example: Get job recommendations for a user\n",
    "user_id = 'some_user_id'  # Replace with the actual user identifier\n",
    "recommendations = get_job_recommendations(user_id)\n",
    "print(\"Recommended Jobs:\", recommendations)\n"
   ]
  }
 ],
 "metadata": {
  "language_info": {
   "name": "python"
  },
  "orig_nbformat": 4
 },
 "nbformat": 4,
 "nbformat_minor": 2
}
